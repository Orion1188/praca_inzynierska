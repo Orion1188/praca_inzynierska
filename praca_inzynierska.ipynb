{
 "cells": [
  {
   "cell_type": "code",
   "execution_count": 1,
   "metadata": {},
   "outputs": [
    {
     "ename": "TypeError",
     "evalue": "slice indices must be integers or None or have an __index__ method",
     "output_type": "error",
     "traceback": [
      "\u001b[1;31m---------------------------------------------------------------------------\u001b[0m",
      "\u001b[1;31mTypeError\u001b[0m                                 Traceback (most recent call last)",
      "Cell \u001b[1;32mIn[1], line 3\u001b[0m\n\u001b[0;32m      1\u001b[0m \u001b[38;5;28;01mimport\u001b[39;00m \u001b[38;5;21;01mmodels\u001b[39;00m\n\u001b[1;32m----> 3\u001b[0m models\u001b[38;5;241m.\u001b[39mnagel_schreckenberg_simulation()\n",
      "File \u001b[1;32mc:\\Users\\oskar.LAPTOP-KARLNF81\\Documents\\GitHub\\praca_inzynierska\\models.py:18\u001b[0m, in \u001b[0;36mnagel_schreckenberg_simulation\u001b[1;34m(size, density, v_max, steps, loop, random_slow_prob)\u001b[0m\n\u001b[0;32m     16\u001b[0m \u001b[38;5;28;01mfor\u001b[39;00m step \u001b[38;5;129;01min\u001b[39;00m \u001b[38;5;28mrange\u001b[39m(steps):\n\u001b[0;32m     17\u001b[0m     road_history[step] \u001b[38;5;241m=\u001b[39m road\n\u001b[1;32m---> 18\u001b[0m     road, car_placements \u001b[38;5;241m=\u001b[39m nagel_screckenberg_step(road, car_placements, v_max, size, loop, random_slow_prob)\n\u001b[0;32m     19\u001b[0m plot_time_space(road_history)\n",
      "File \u001b[1;32mc:\\Users\\oskar.LAPTOP-KARLNF81\\Documents\\GitHub\\praca_inzynierska\\models.py:40\u001b[0m, in \u001b[0;36mnagel_screckenberg_step\u001b[1;34m(road, car_placements, v_max, size, loop, random_slow_prob)\u001b[0m\n\u001b[0;32m     38\u001b[0m \u001b[38;5;66;03m# 1. Acceleration\u001b[39;00m\n\u001b[0;32m     39\u001b[0m \u001b[38;5;28;01mif\u001b[39;00m loop:\n\u001b[1;32m---> 40\u001b[0m     sight \u001b[38;5;241m=\u001b[39m road[(i\u001b[38;5;241m+\u001b[39m\u001b[38;5;241m1\u001b[39m) \u001b[38;5;241m%\u001b[39m size: (i\u001b[38;5;241m+\u001b[39mv\u001b[38;5;241m+\u001b[39m\u001b[38;5;241m2\u001b[39m) \u001b[38;5;241m%\u001b[39m size]\n\u001b[0;32m     41\u001b[0m \u001b[38;5;28;01melse\u001b[39;00m:\n\u001b[0;32m     42\u001b[0m     sight \u001b[38;5;241m=\u001b[39m road[(i\u001b[38;5;241m+\u001b[39m\u001b[38;5;241m1\u001b[39m): \u001b[38;5;28mmin\u001b[39m(i\u001b[38;5;241m+\u001b[39mv\u001b[38;5;241m+\u001b[39m\u001b[38;5;241m2\u001b[39m, size)]\n",
      "\u001b[1;31mTypeError\u001b[0m: slice indices must be integers or None or have an __index__ method"
     ]
    }
   ],
   "source": [
    "import models\n",
    "\n",
    "models.nagel_schreckenberg_simulation()"
   ]
  }
 ],
 "metadata": {
  "kernelspec": {
   "display_name": "base",
   "language": "python",
   "name": "python3"
  },
  "language_info": {
   "codemirror_mode": {
    "name": "ipython",
    "version": 3
   },
   "file_extension": ".py",
   "mimetype": "text/x-python",
   "name": "python",
   "nbconvert_exporter": "python",
   "pygments_lexer": "ipython3",
   "version": "3.11.7"
  }
 },
 "nbformat": 4,
 "nbformat_minor": 2
}
